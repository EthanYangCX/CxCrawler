{
 "cells": [
  {
   "source": [
    "# QS to grab\n",
    "using XHR gotten in urls like https://www.topuniversities.com/university-rankings/world-university-rankings/2022"
   ],
   "cell_type": "markdown",
   "metadata": {}
  },
  {
   "cell_type": "code",
   "execution_count": 5,
   "metadata": {},
   "outputs": [],
   "source": [
    "# 从network的xhr文件中发现json文件的url\n",
    "urls={\n",
    "    '2022': 'https://www.topuniversities.com/sites/default/files/qs-rankings-data/en/3740566.txt?1623183713?v=1623251204159',\n",
    "    '2021': 'https://www.topuniversities.com/sites/default/files/qs-rankings-data/en/2057712.txt?1623183364?v=1623254149518',\n",
    "    '2020': 'https://www.topuniversities.com/sites/default/files/qs-rankings-data/en/914824.txt?1623183839?v=1623254203592',\n",
    "    '2019': 'https://www.topuniversities.com/sites/default/files/qs-rankings-data/en/397863.txt?1623183911?v=1623254242977',\n",
    "    '2018': 'https://www.topuniversities.com/sites/default/files/qs-rankings-data/en/357051.txt?1623189642?v=1623254394658',\n",
    "    '2017': 'https://www.topuniversities.com/sites/default/files/qs-rankings-data/en/357051.txt?1623189642?v=1623254422154',\n",
    "    '2016': 'https://www.topuniversities.com/sites/default/files/qs-rankings-data/en/326584.txt?1623203022?v=1623254459114',\n",
    "    '2015': 'https://www.topuniversities.com/sites/default/files/qs-rankings-data/en/299926.txt?1623193600?v=1623254527088'\n",
    "}"
   ]
  },
  {
   "cell_type": "code",
   "execution_count": null,
   "metadata": {},
   "outputs": [],
   "source": [
    "# crawl\n",
    "import requests\n",
    "import json\n",
    "for year, url in urls.items():\n",
    "    cont = requests.get(url)\n",
    "    data = cont.json()   # json数据类型为dict\n",
    "    with open(r'.\\QS-json\\{0}.json'.format(year), 'w', encoding='utf-8') as f:\n",
    "        f.write(json.dumps(data))"
   ]
  },
  {
   "source": [
    "# QS to analyse\n",
    "process data collected from qs website"
   ],
   "cell_type": "markdown",
   "metadata": {}
  },
  {
   "cell_type": "code",
   "execution_count": 19,
   "metadata": {},
   "outputs": [],
   "source": [
    "import requests\n",
    "import json\n",
    "import xlsxwriter as xlwt\n",
    "from bs4 import BeautifulSoup\n",
    "# 将字典数据转换为数组\n",
    "def parser_page(json):\n",
    "    if json:\n",
    "        items = json.get('data')\n",
    "        for i in range(len(items)):\n",
    "            item = items[i]\n",
    "            QSrank = {}\n",
    "            QSrank['title'] = BeautifulSoup(item['title']).get_text()\n",
    "            if \"=\" in item['rank_display']:\n",
    "                rk_str = str(item['rank_display']).split('=')[-1]\n",
    "                QSrank['rank_display'] = rk_str\n",
    "            else:\n",
    "                QSrank['rank_display'] = item['rank_display']\n",
    "            QSrank['region'] = item['region']\n",
    "            QSrank['score'] = item['score']\n",
    "            yield QSrank\n",
    "\n",
    "workbook = xlwt.Workbook(r'.\\QS.xlsx')\n",
    "worksheet_main = workbook.add_worksheet('main')\n",
    "\n",
    "# 写每一年的分表\n",
    "for year in urls.keys():\n",
    "    with open(r'.\\QS-json\\{0}.json'.format(year), 'r', encoding='utf-8') as f:\n",
    "        data = json.loads(f.read())\n",
    "    results = parser_page(data)\n",
    "\n",
    "    worksheet = workbook.add_worksheet(year)\n",
    "\n",
    "    headings = ['Title', 'Rank', 'Region', 'Score']\n",
    "    col = 0\n",
    "    for heading in headings:\n",
    "        worksheet.write(0, col, heading)\n",
    "        col = col+1\n",
    "\n",
    "    row = 1\n",
    "    for result in results:\n",
    "        col = 0\n",
    "        for k, v in result.items():\n",
    "            worksheet.write(row, col, v)\n",
    "            col = col+1\n",
    "        row = row+1\n",
    "\n",
    "# 写 main 表\n",
    "with open(r'.\\QS-json\\{0}.json'.format(2022), 'r', encoding='utf-8') as f:\n",
    "    data = json.loads(f.read())\n",
    "results = parser_page(data)\n",
    "headings_main = ['Title'] + list(urls.keys())\n",
    "col = 0\n",
    "for heading in headings_main:\n",
    "    worksheet_main.write(0, col, heading)\n",
    "    col += 1\n",
    "row = 1\n",
    "for result in results:\n",
    "    worksheet_main.write(row, 0, result['title'])\n",
    "    for year in urls.keys():\n",
    "        worksheet_main.write(\n",
    "            row, headings_main.index(year), \"=VLOOKUP(A{0},'{1}'!A:B,2,0)\".format(row + 1, year))\n",
    "    row += 1\n",
    "\n",
    "worksheet_main.set_column('A:A',20) \n",
    "workbook.close()"
   ]
  },
  {
   "source": [
    "# THE data getting\n",
    "like https://www.timeshighereducation.com/world-university-rankings/2021/world-ranking\n",
    "THE 的网页和QS一样都把数据存在 XHR 里，所以找到对应的 json 文件链接便可获取完整数据。但要额外注意的是 THE 的网站对 headers 有检查，不加 headers 会返回 403。"
   ],
   "cell_type": "markdown",
   "metadata": {}
  },
  {
   "cell_type": "code",
   "execution_count": 5,
   "metadata": {},
   "outputs": [],
   "source": [
    "# 从network的xhr文件中发现json文件的url\n",
    "urls={\n",
    "    '2021': 'https://www.timeshighereducation.com/sites/default/files/the_data_rankings/world_university_rankings_2021_0__fa224219a267a5b9c4287386a97c70ea.json',\n",
    "    '2020': 'https://www.timeshighereducation.com/sites/default/files/the_data_rankings/world_university_rankings_2020_0__24cc3874b05eea134ee2716dbf93f11a.json',\n",
    "    '2019': 'https://www.timeshighereducation.com/sites/default/files/the_data_rankings/world_university_rankings_2019_0__8923a34186e552aa8aec863e45bc02d5.json',\n",
    "    '2018': 'https://www.timeshighereducation.com/sites/default/files/the_data_rankings/world_university_rankings_2018_0__e814f039fcc8ddc45dc6085e4a8a8b66.json',\n",
    "    '2017': 'https://www.timeshighereducation.com/sites/default/files/the_data_rankings/world_university_rankings_2017_0__06ec07a66faf58bb6171791e5852fe1c.json',\n",
    "    '2016': 'https://www.timeshighereducation.com/sites/default/files/the_data_rankings/world_university_rankings_2016_0__db6aad7f77c771c83817ced2b2ed3722.json',\n",
    "    '2015': 'https://www.timeshighereducation.com/sites/default/files/the_data_rankings/world_university_rankings_2015_0__0ea44da985e26d09045368c98f819b91.json'\n",
    "}\n",
    "latest_year = list(urls.keys())[0]"
   ]
  },
  {
   "cell_type": "code",
   "execution_count": 4,
   "metadata": {},
   "outputs": [
    {
     "output_type": "stream",
     "name": "stdout",
     "text": [
      "<Response [200]>\n",
      "<Response [200]>\n",
      "<Response [200]>\n",
      "<Response [200]>\n",
      "<Response [200]>\n",
      "<Response [200]>\n",
      "<Response [200]>\n"
     ]
    }
   ],
   "source": [
    "# crawl\n",
    "import requests\n",
    "import json\n",
    "headers = {'User-Agent': 'Mozilla/5.0 (Windows NT 10.0; Win64; x64) AppleWebKit/537.36 (KHTML, like Gecko) Chrome/67.0.3396.99 Safari/537.36'}\n",
    "for year, url in urls.items():\n",
    "    cont = requests.get(url, headers=headers)\n",
    "    print(cont)\n",
    "    data = cont.json()   # json数据类型为dict\n",
    "    with open(r'.\\THE-json\\{0}.json'.format(year), 'w', encoding='utf-8') as f:\n",
    "        f.write(json.dumps(data))"
   ]
  },
  {
   "source": [
    "# THE to analyse"
   ],
   "cell_type": "markdown",
   "metadata": {}
  },
  {
   "cell_type": "code",
   "execution_count": 6,
   "metadata": {},
   "outputs": [],
   "source": [
    "import requests\n",
    "import json\n",
    "import xlsxwriter as xlwt\n",
    "from bs4 import BeautifulSoup\n",
    "# 将字典数据转换为数组\n",
    "def parser_page(json):\n",
    "    if json:\n",
    "        items = json.get('data')\n",
    "        for i in range(len(items)):\n",
    "            item = items[i]\n",
    "            res = {}\n",
    "            res['title'] = BeautifulSoup(item['name']).get_text()\n",
    "            if \"=\" in item['rank']:\n",
    "                rk_str = str(item['rank']).split('=')[-1]\n",
    "                res['rank_display'] = rk_str\n",
    "            else:\n",
    "                res['rank_display'] = item['rank']\n",
    "            res['region'] = item['location']\n",
    "            res['score'] = item['scores_overall']\n",
    "            res['aliases'] = item['aliases']\n",
    "            yield res\n",
    "\n",
    "workbook = xlwt.Workbook(r'.\\THE.xlsx')\n",
    "worksheet_main = workbook.add_worksheet('main')\n",
    "\n",
    "# 写每一年的分表\n",
    "for year in urls.keys():\n",
    "    with open(r'.\\THE-json\\{0}.json'.format(year), 'r', encoding='utf-8') as f:\n",
    "        data = json.loads(f.read())\n",
    "    results = parser_page(data)\n",
    "\n",
    "    worksheet = workbook.add_worksheet(year)\n",
    "\n",
    "    headings = ['Title', 'Rank', 'Region', 'Score', 'Aliases']\n",
    "    col = 0\n",
    "    for heading in headings:\n",
    "        worksheet.write(0, col, heading)\n",
    "        col = col+1\n",
    "\n",
    "    row = 1\n",
    "    for result in results:\n",
    "        col = 0\n",
    "        for k, v in result.items():\n",
    "            worksheet.write(row, col, v)\n",
    "            col = col+1\n",
    "        row = row+1\n",
    "\n",
    "# 写 main 表\n",
    "with open(r'.\\THE-json\\{0}.json'.format(latest_year), 'r', encoding='utf-8') as f:\n",
    "    data = json.loads(f.read())\n",
    "results = parser_page(data)\n",
    "headings_main = ['Title'] + list(urls.keys())\n",
    "col = 0\n",
    "for heading in headings_main:\n",
    "    worksheet_main.write(0, col, heading)\n",
    "    col += 1\n",
    "row = 1\n",
    "for result in results:\n",
    "    worksheet_main.write(row, 0, result['title'])\n",
    "    for year in urls.keys():\n",
    "        worksheet_main.write(\n",
    "            row, headings_main.index(year), \"=VLOOKUP(A{0},'{1}'!A:B,2,0)\".format(row + 1, year))\n",
    "    row += 1\n",
    "\n",
    "worksheet_main.set_column('A:A',20) \n",
    "workbook.close()"
   ]
  },
  {
   "cell_type": "code",
   "execution_count": null,
   "metadata": {},
   "outputs": [],
   "source": []
  }
 ],
 "metadata": {
  "kernelspec": {
   "name": "python376jvsc74a57bd0b3ba2566441a7c06988d0923437866b63cedc61552a5af99d1f4fb67d367b25f",
   "display_name": "Python 3.7.6 64-bit ('base': conda)"
  },
  "language_info": {
   "codemirror_mode": {
    "name": "ipython",
    "version": 3
   },
   "file_extension": ".py",
   "mimetype": "text/x-python",
   "name": "python",
   "nbconvert_exporter": "python",
   "pygments_lexer": "ipython3",
   "version": "3.7.6"
  }
 },
 "nbformat": 4,
 "nbformat_minor": 4
}